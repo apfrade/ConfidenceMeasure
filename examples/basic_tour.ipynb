{
 "cells": [
  {
   "cell_type": "markdown",
   "metadata": {},
   "source": [
    "## Basic Tour"
   ]
  },
  {
   "cell_type": "markdown",
   "metadata": {},
   "source": [
    "This is a basic tour of how to use the confidence tool for its different applications.  \n",
    "\n",
    "Contents:  \n",
    "\n",
    "    1. Understand input and output  \n",
    "    2. Quantify the confidence of a prediction  \n",
    "    3. Bin examples according to the confidence of their prediction  \n",
    "    4. Increase model robustness  \n",
    "    5. Increase model performance  \n",
    "    6. Build an ensemble model"
   ]
  },
  {
   "cell_type": "markdown",
   "metadata": {},
   "source": [
    "#### 1. Understand input and output   \n",
    "\n",
    "##### Input:  \n",
    "\n",
    "This tool has 4 inputs. Each of these should be provided as described below:\n",
    "\n",
    "**- ids:** a pandas series containing the identifiers of the examples to be predicted  \n",
    "**- descriptors:** a pandas dataframe containing the descriptor values associated with the examples to be predicted.  \n",
    "The nth identfier in the list of ids should correspond to the nth row of the descriptor table.   \n",
    "**- classifier:** the path of a pickled file of the model to be used. This should be a classifier able to output class probabilities for each prediction.  \n",
    "**- confidence threshold:** a float between 0 and 1.  \n",
    "\n",
    "\n",
    "The **classifier** and **confidence threshold** must be provided as a list of tuples, and you may run them in different scenarios:\n",
    "\n",
    "1. One model with one confidence threshold:  **[(model_1_file_path, ct_1)]**   \n",
    "        \n",
    "2. One model over different round of confidence thresholds:  **[(model_1_file_path, ct_1), (model_1_file_path, ct_2)]**   \n",
    "        \n",
    "3. Different models with different confidence thresholds:  **[(model_1_file_path, ct_1), (model_2_file_path, ct_2)]**    \n",
    "        \n",
    "        \n",
    "##### Output:  \n",
    "\n",
    "The tool produces 2 outputs:\n",
    "\n",
    "**- confident_predictions:** a dictionary of the type \n",
    "\n",
    "    dict[ct] = [(predicted label 1, example id 2), (predicted label 2, example id 2), ...] \n",
    "    \n",
    "    - ct is the key of each dictionary entry and corresponds to the confidence threshold used  \n",
    "    - [(predicted label, example id)] is the list of results that the model confidently predicted for that ct   \n",
    "    - (predicted label, example id) is a tuple of predicted label and corresponding example identifier  \n",
    "\n",
    "**- unpredicted_examples_ids:** a list of identifiers for which the model could not make any confident prediction  "
   ]
  },
  {
   "cell_type": "markdown",
   "metadata": {},
   "source": [
    "### Load and explore some data."
   ]
  },
  {
   "cell_type": "code",
   "execution_count": 1,
   "metadata": {},
   "outputs": [
    {
     "name": "stdout",
     "output_type": "stream",
     "text": [
      "Dataframe first 5 columns: \n",
      " ['id' 'label' 'feature_0' 'feature_1' 'feature_2']\n",
      "\n",
      "Dataframe shape: \n",
      " (3300, 105)\n"
     ]
    }
   ],
   "source": [
    "import pandas as pd\n",
    "\n",
    "data = pd.read_pickle('dataset')\n",
    "\n",
    "print('Dataframe first 5 columns: \\n', data.columns.values[:5])\n",
    "print('\\nDataframe shape: \\n', data.shape)"
   ]
  },
  {
   "cell_type": "markdown",
   "metadata": {},
   "source": [
    "### Prepare inputs for predictions."
   ]
  },
  {
   "cell_type": "code",
   "execution_count": 2,
   "metadata": {},
   "outputs": [],
   "source": [
    "# the id of each example should be stored as a pandas series\n",
    "ids = data.id\n",
    "\n",
    "# labels should be provided for confidence threshld studies\n",
    "labels = data.label\n",
    "\n",
    "# the descriptors should be stored in a pandas dataframe\n",
    "descriptors = data.drop(['id', 'label'], axis=1)"
   ]
  },
  {
   "cell_type": "markdown",
   "metadata": {},
   "source": [
    "### Use the confidence tool"
   ]
  },
  {
   "cell_type": "markdown",
   "metadata": {},
   "source": [
    "#### 2. Check the confidence of a given prediction\n",
    "\n",
    "This code only works for individual examples."
   ]
  },
  {
   "cell_type": "code",
   "execution_count": 3,
   "metadata": {},
   "outputs": [],
   "source": [
    "from ConfidenceMeasure import prediction_confidence\n",
    "\n",
    "# select example id\n",
    "example_19 = [ids.iloc[19]]\n",
    "\n",
    "# select example descriptors\n",
    "example_19_descriptors = descriptors.iloc[19,:]\n",
    "\n",
    "model_file = 'classifier'\n",
    "\n",
    "label, confidence = prediction_confidence(model_file, example_19_descriptors)"
   ]
  },
  {
   "cell_type": "markdown",
   "metadata": {},
   "source": [
    "##### Explore the results"
   ]
  },
  {
   "cell_type": "code",
   "execution_count": 4,
   "metadata": {},
   "outputs": [
    {
     "name": "stdout",
     "output_type": "stream",
     "text": [
      "The example_19 was predicted to belong to the class 0D with a confidence of 0.30.\n"
     ]
    }
   ],
   "source": [
    "print('The %s was predicted to belong to the class %s with a confidence of %.2f.' %('example_19', label, confidence))"
   ]
  },
  {
   "cell_type": "markdown",
   "metadata": {},
   "source": [
    "#### 3. Increase model robustness\n",
    "\n",
    "Many examples tend to be assigned to a class rather than another due to a very small difference of class probabilities. In cases where the dataset is noisy, such events may lead to result inconsistencies. Thus, by adding a small confidence margin (eg. ct= 0.05), many of the noisy predictions will no longer be considered and the model will therefore become more robust in its performance.\n",
    "\n",
    "A model with no confidence restrinctions would output results for all the x inputs. Filtering out 'noisy' predictions, the dataset quickly goes increases its robusteness and often its accuracy. "
   ]
  },
  {
   "cell_type": "code",
   "execution_count": 5,
   "metadata": {},
   "outputs": [
    {
     "name": "stdout",
     "output_type": "stream",
     "text": [
      "classifier (ct 0.05) confident predictions: 2864 total\n",
      "\n",
      "Examples that could not be determine: 436 / 3300\n"
     ]
    }
   ],
   "source": [
    "from ConfidenceMeasure import confidence_measure\n",
    "\n",
    "# the model should be the path of a pickled classifier\n",
    "model= 'classifier'\n",
    "\n",
    "# the confidence threshold must be a float between 0 and 1\n",
    "confidence_threshold = 0.05\n",
    "\n",
    "model_ct_list = [(model, confidence_threshold)]\n",
    "\n",
    "confident_predictions, unpredicted_examples = confidence_measure(model_ct_list, ids, descriptors)"
   ]
  },
  {
   "cell_type": "markdown",
   "metadata": {},
   "source": [
    "##### Explore the results"
   ]
  },
  {
   "cell_type": "code",
   "execution_count": 6,
   "metadata": {},
   "outputs": [
    {
     "name": "stdout",
     "output_type": "stream",
     "text": [
      "CT      PREDICTION EXAMPLE\n",
      "0.05  |  [('0D', 'example_0'), ('3D', 'example_1'), ('3D', 'example_3')]\n",
      "\n",
      "Unpredicted examples: \n",
      " ['example_2' 'example_8' 'example_9']\n"
     ]
    }
   ],
   "source": [
    "# explore confident predictions: print the first 3 examples\n",
    "result = confident_predictions[confidence_threshold]\n",
    "print('CT      PREDICTION EXAMPLE')\n",
    "if len(result) == 0: \n",
    "    print(confidence_threshold,' | ', '[()]') \n",
    "else: \n",
    "    print(confidence_threshold,' | ', result[:3])\n",
    "    \n",
    "# explore unpredicted examples: print the first 3 examples\n",
    "print('\\nUnpredicted examples: \\n', unpredicted_examples.values[:3])"
   ]
  },
  {
   "cell_type": "markdown",
   "metadata": {},
   "source": [
    "#### 4. Increase model performance"
   ]
  },
  {
   "cell_type": "markdown",
   "metadata": {},
   "source": [
    "Setting high confidence values does lead to a better algorithm performance of the output predictions. However, the higher the confidence, the less answers the model will be able to produce. Thus,a compromise between accuracy and access to answers is required for the achievement of useful results.  \n",
    "\n",
    "First, one must perform confidence threshold studies to find the ideal confidence value. And be aware that below a certain number of predicted examples, the prediction accuracy might stop making sense. "
   ]
  },
  {
   "cell_type": "code",
   "execution_count": 7,
   "metadata": {},
   "outputs": [
    {
     "name": "stdout",
     "output_type": "stream",
     "text": [
      "\n",
      "Summary:\n",
      "     Confident Threshold  % test set predicted  Prediction accuracy\n",
      "0                   0.0                 100.0                 58.0\n",
      "1                   0.1                  74.0                 63.0\n",
      "2                   0.2                  52.0                 66.0\n",
      "3                   0.3                  36.0                 71.0\n",
      "4                   0.4                  26.0                 75.0\n",
      "5                   0.5                  18.0                 79.0\n",
      "6                   0.6                  13.0                 82.0\n",
      "7                   0.7                   8.0                 87.0\n",
      "8                   0.8                   4.0                 91.0\n",
      "9                   0.9                   2.0                 95.0\n",
      "10                  1.0                   0.0                100.0 \n",
      "\n"
     ]
    },
    {
     "data": {
      "image/png": "[encoded data removed]",
      "text/plain": [
       "<Figure size 432x288 with 1 Axes>"
      ]
     },
     "metadata": {
      "needs_background": "light"
     },
     "output_type": "display_data"
    }
   ],
   "source": [
    "from ConfidenceMeasure import ct_studies\n",
    "\n",
    "ct_studies(model, descriptors, labels)"
   ]
  },
  {
   "cell_type": "code",
   "execution_count": 8,
   "metadata": {},
   "outputs": [
    {
     "name": "stdout",
     "output_type": "stream",
     "text": [
      "classifier (ct 0.40) confident predictions: 846 total\n",
      "\n",
      "Examples that could not be determine: 2454 / 3300\n"
     ]
    }
   ],
   "source": [
    "model = 'classifier'\n",
    "confidence_threshold = 0.4\n",
    "model_confidence_threshold_list = [(model, confidence_threshold)]\n",
    "\n",
    "confident_predictions, unpredicted_examples_ids = confidence_measure(model_confidence_threshold_list, ids, descriptors)"
   ]
  },
  {
   "cell_type": "markdown",
   "metadata": {},
   "source": [
    "##### Explore the results"
   ]
  },
  {
   "cell_type": "code",
   "execution_count": 9,
   "metadata": {},
   "outputs": [
    {
     "name": "stdout",
     "output_type": "stream",
     "text": [
      "CT      PREDICTION EXAMPLE\n",
      "0.4  |  [('3D', 'example_11'), ('3D', 'example_14'), ('3D', 'example_15')]\n",
      "\n",
      "Unpredicted examples: \n",
      " ['example_0' 'example_1' 'example_2']\n"
     ]
    }
   ],
   "source": [
    "# explore confident predictions: print the first 3 examples\n",
    "\n",
    "result = confident_predictions[confidence_threshold]\n",
    "print('CT      PREDICTION EXAMPLE')\n",
    "if len(result) == 0: \n",
    "    print(confidence_threshold,' | ', '[()]') \n",
    "else: \n",
    "    print(confidence_threshold,' | ', result[:3])\n",
    "    \n",
    "# explore unpredicted examples: print the first 3 examples\n",
    "print('\\nUnpredicted examples: \\n', unpredicted_examples_ids.values[:3])"
   ]
  },
  {
   "cell_type": "markdown",
   "metadata": {},
   "source": [
    "#### 5. Bin examples according to the confidence of their prediction "
   ]
  },
  {
   "cell_type": "code",
   "execution_count": 10,
   "metadata": {},
   "outputs": [
    {
     "name": "stdout",
     "output_type": "stream",
     "text": [
      "classifier (ct 1.00) confident predictions: 15 total\n",
      "classifier (ct 0.90) confident predictions: 60 total\n",
      "classifier (ct 0.80) confident predictions: 70 total\n",
      "classifier (ct 0.70) confident predictions: 123 total\n",
      "classifier (ct 0.60) confident predictions: 148 total\n",
      "classifier (ct 0.50) confident predictions: 167 total\n",
      "classifier (ct 0.40) confident predictions: 263 total\n",
      "classifier (ct 0.30) confident predictions: 336 total\n",
      "classifier (ct 0.10) confident predictions: 1244 total\n",
      "classifier (ct 0.00) confident predictions: 874 total\n",
      "\n",
      "All examples have been classified.\n"
     ]
    }
   ],
   "source": [
    "model_file = 'classifier'\n",
    "model_confidence_threshold_list = [(model_file, 1.0), (model_file, 0.9), \n",
    "                                   (model_file, 0.8), (model_file, 0.7), \n",
    "                                   (model_file, 0.6), (model_file, 0.5), \n",
    "                                   (model_file, 0.4), (model_file, 0.3), \n",
    "                                   (model_file, 0.1), (model_file, 0.0)]\n",
    "\n",
    "confident_predictions, unpredicted_examples_ids = confidence_measure(model_confidence_threshold_list, ids, descriptors)"
   ]
  },
  {
   "cell_type": "markdown",
   "metadata": {},
   "source": [
    "##### Explore the results"
   ]
  },
  {
   "cell_type": "code",
   "execution_count": 11,
   "metadata": {},
   "outputs": [
    {
     "name": "stdout",
     "output_type": "stream",
     "text": [
      "CT      PREDICTION EXAMPLE\n",
      "1.0  |  [('3D', 'example_143'), ('3D', 'example_296'), ('3D', 'example_338')]\n",
      "0.9  |  [('3D', 'example_14'), ('3D', 'example_15'), ('2D', 'example_26')]\n",
      "0.8  |  [('3D', 'example_56'), ('3D', 'example_163'), ('0D', 'example_176')]\n",
      "0.7  |  [('0D', 'example_38'), ('3D', 'example_92'), ('3D', 'example_114')]\n",
      "0.6  |  [('3D', 'example_17'), ('0D', 'example_24'), ('3D', 'example_33')]\n",
      "0.5  |  [('2D', 'example_16'), ('0D', 'example_18'), ('1D', 'example_29')]\n",
      "0.4  |  [('3D', 'example_11'), ('1D', 'example_22'), ('0D', 'example_45')]\n",
      "0.3  |  [('0D', 'example_12'), ('0D', 'example_19'), ('3D', 'example_25')]\n",
      "0.1  |  [('0D', 'example_0'), ('3D', 'example_3'), ('0D', 'example_4')]\n",
      "0.0  |  [('3D', 'example_1'), ('2D', 'example_2'), ('2D', 'example_5')]\n"
     ]
    }
   ],
   "source": [
    "# explore confident predictions: print the first 3 examples\n",
    "\n",
    "print('CT      PREDICTION EXAMPLE')\n",
    "for confidence_threshold in confident_predictions:\n",
    "\n",
    "    result = confident_predictions[confidence_threshold]\n",
    "    \n",
    "    if len(result) == 0: \n",
    "        print(confidence_threshold,' | ', '[()]') \n",
    "    else: \n",
    "        print(confidence_threshold,' | ', result[:3])"
   ]
  },
  {
   "cell_type": "markdown",
   "metadata": {},
   "source": [
    "#### Finally ...\n",
    "\n",
    "We believe that this tool may have many more applications beyond the ones presented in this notebook. \n",
    "\n",
    "We anticipate the use of the confidence tool to create ensembles of classifieres, where the data patterns not find by the first methods, shall be captured by later ones. \n",
    "\n",
    "We also believe that the tool could find a useful application in self learning algorithms, specially in the automatic instance labeling.\n",
    "\n",
    "We look forward to read you applications of the confidence measure tool and hope that this is a useful piece of code for you. \n",
    "\n",
    "Thanks for using our tool and please do not forget to cite us. :)"
   ]
  },
  {
   "cell_type": "code",
   "execution_count": null,
   "metadata": {},
   "outputs": [],
   "source": []
  }
 ],
 "metadata": {
  "kernelspec": {
   "display_name": "Python 3",
   "language": "python",
   "name": "python3"
  },
  "language_info": {
   "codemirror_mode": {
    "name": "ipython",
    "version": 3
   },
   "file_extension": ".py",
   "mimetype": "text/x-python",
   "name": "python",
   "nbconvert_exporter": "python",
   "pygments_lexer": "ipython3",
   "version": "3.7.4"
  }
 },
 "nbformat": 4,
 "nbformat_minor": 4
}
